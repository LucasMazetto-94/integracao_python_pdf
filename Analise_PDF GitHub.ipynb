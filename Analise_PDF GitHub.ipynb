{
 "cells": [
  {
   "cell_type": "markdown",
   "id": "e940ae50",
   "metadata": {},
   "source": [
    "1º Objetivo: Queremos conseguir separar apenas o DRE do Release de Resultados (Página 14) para enviar para a Diretoria, como fazemos?\n",
    "- Separar as páginas de um pdf"
   ]
  },
  {
   "cell_type": "code",
   "execution_count": null,
   "id": "237b5ac0",
   "metadata": {},
   "outputs": [],
   "source": [
    "# Sempre que trabalhar com PDF usar duas Bibliotecas PyPDF2 e import pathlib from Path \n",
    "\n",
    "import PyPDF2 as pyf\n",
    "from pathlib import Path\n",
    "\n",
    "# separar paginas do arquivo\n",
    "\n",
    "nome_arquivo = 'MGLU_ER_3T20_POR.pdf'\n",
    "arquivo_pdf = pyf.PdfFileReader(nome_arquivo)\n",
    "\n",
    "i = 1\n",
    "for pagina in arquivo_pdf.pages:\n",
    "    arquivo_novo = pyf.PdfFileWriter()\n",
    "    arquivo_novo.addPage(pagina)\n",
    "    \n",
    "    # salvar o arquivo\n",
    "    \n",
    "    with Path(f'paginas/Arquivo {i}.pdf').open(mode = 'wb') as arquivo_final:\n",
    "        arquivo_novo.write(arquivo_final)\n",
    "        i += 1"
   ]
  },
  {
   "cell_type": "markdown",
   "id": "2a3ed756",
   "metadata": {},
   "source": [
    "2º Objetivo: Com o Release de Resultados já separado página por página, queremos incluir apenas as Páginas de Destaque (Página 1), DRE (Página 14) e Balanço (Página 16).\n",
    "- Juntar vários pdfs em 1"
   ]
  },
  {
   "cell_type": "code",
   "execution_count": null,
   "id": "35c252cd",
   "metadata": {},
   "outputs": [],
   "source": [
    "paginas = [1, 14, 16]\n",
    "# criar novo PDF\n",
    "novo_pdf = pyf.PdfFileWriter() \n",
    "\n",
    "for num_pagina in paginas:\n",
    "    nome_arquivo = f\"paginas/Arquivo {num_pagina}.pdf\"\n",
    "    arquivo_pdf = pyf.PdfFileReader(nome_arquivo)\n",
    "    pagina = arquivo_pdf.pages[0]\n",
    "    novo_pdf.addPage(pagina)\n",
    "    \n",
    "#     Pegar o Arquivo num_pagina\n",
    "#     adicionar ele no nosso novo_pdf\n",
    "\n",
    "\n",
    "\n",
    "\n",
    "#     salvar o arquivo\n",
    "with Path(f'Consolidado.pdf').open(mode='wb') as arquivo_final:\n",
    "        novo_pdf.write(arquivo_final)"
   ]
  },
  {
   "cell_type": "markdown",
   "id": "55940c7a",
   "metadata": {},
   "source": [
    "1º Objetivo: Quero identificar como foram as Despesas com Vendas da MGLU\n",
    "- Pegar texto da página e identificar onde está essa informação"
   ]
  },
  {
   "cell_type": "code",
   "execution_count": null,
   "id": "70c12a41",
   "metadata": {},
   "outputs": [],
   "source": [
    "nome_arquivo = 'MGLU_ER_4T20_POR.pdf'\n",
    "arquivo = pyf.PdfFileReader(nome_arquivo)\n",
    "\n",
    "num_paginas = arquivo.numPages\n",
    "print(num_paginas)\n",
    "\n",
    "informacoes = arquivo.getDocumentInfo()\n",
    "print(informacoes)\n"
   ]
  },
  {
   "cell_type": "code",
   "execution_count": null,
   "id": "5d8d2cb0",
   "metadata": {},
   "outputs": [],
   "source": [
    "texto_procurado = '| Despesas com Vendas '\n",
    "i = 1\n",
    "for pagina in arquivo.pages:\n",
    "    texto_pagina = pagina.extract_text()\n",
    "    if texto_procurado in texto_pagina:\n",
    "        print(f'Esta na página {i}')\n",
    "        num_pagina = i\n",
    "        texto_final = texto_pagina\n",
    "    i += 1\n",
    "    "
   ]
  },
  {
   "cell_type": "code",
   "execution_count": null,
   "id": "67fb46dc",
   "metadata": {},
   "outputs": [],
   "source": [
    "print(texto_final)"
   ]
  },
  {
   "cell_type": "code",
   "execution_count": null,
   "id": "49ac93d1",
   "metadata": {},
   "outputs": [],
   "source": [
    "posicao = texto_final.find('| Despesas com Vendas')\n",
    "posicao_final = texto_final.find('|', posicao + 1 )\n",
    "print(posicao)\n",
    "print(posicao_final)\n",
    "\n",
    "texto_despesas = texto_final[posicao:posicao_final]\n",
    "print(texto_despesas)"
   ]
  },
  {
   "cell_type": "markdown",
   "id": "959de85e",
   "metadata": {},
   "source": [
    "- Para ler tabelas em pdf"
   ]
  },
  {
   "cell_type": "code",
   "execution_count": null,
   "id": "f746ba0d",
   "metadata": {},
   "outputs": [],
   "source": [
    "import tabula\n",
    "import pandas as pd\n",
    "\n",
    "df = tabula.read_pdf('MGLU_ER_3T20_POR.pdf', pages = 5)\n",
    "tabela = df[0]\n",
    "tabela = tabela.dropna(how = 'all')\n",
    "tabela = tabela.dropna(how = 'all', axis = 1)\n",
    "tabela.columns = tabela.iloc[0]\n",
    "tabela = tabela.drop(tabela.index[0])\n",
    "tabela = tabela.reset_index(drop=True)\n",
    "display(tabela)\n",
    "\n",
    "\n",
    "# tabela.to_exel('Arquivo.xlsx')"
   ]
  },
  {
   "cell_type": "markdown",
   "id": "b55a13cd",
   "metadata": {},
   "source": [
    "- Páginas com mais de 1 tabela"
   ]
  },
  {
   "cell_type": "code",
   "execution_count": null,
   "id": "3389d2f8",
   "metadata": {},
   "outputs": [],
   "source": [
    "df = tabula.read_pdf('MGLU_ER_3T20_POR.pdf', pages = 12)\n",
    "for tabela in df:\n",
    "    tabela = tabela.dropna(how = 'all')\n",
    "    tabela = tabela.dropna(how = 'all', axis = 1)\n",
    "    display(tabela)"
   ]
  },
  {
   "cell_type": "code",
   "execution_count": null,
   "id": "f50f2291",
   "metadata": {},
   "outputs": [],
   "source": [
    "capital_giro = df[0]\n",
    "capital_giro = capital_giro.dropna(how = 'all')\n",
    "capital_giro = capital_giro.dropna(how = 'all', axis = 1)\n",
    "\n",
    "df2 = tabula.read_pdf('MGLU_ER_3T20_POR.pdf', pages = 12, lattice = True)\n",
    "titulo_capital_giro = df2[0]\n",
    "titulo_capital_giro = titulo_capital_giro.dropna(how = 'all')\n",
    "titulo_capital_giro = titulo_capital_giro.dropna(how = 'all', axis = 1)\n",
    "titulo_capital_giro = titulo_capital_giro.iloc[0]\n",
    "titulo_capital_giro = titulo_capital_giro.dropna()\n",
    "capital_giro.columns = titulo_capital_giro\n",
    "display(capital_giro)\n"
   ]
  }
 ],
 "metadata": {
  "kernelspec": {
   "display_name": "Python 3 (ipykernel)",
   "language": "python",
   "name": "python3"
  },
  "language_info": {
   "codemirror_mode": {
    "name": "ipython",
    "version": 3
   },
   "file_extension": ".py",
   "mimetype": "text/x-python",
   "name": "python",
   "nbconvert_exporter": "python",
   "pygments_lexer": "ipython3",
   "version": "3.9.12"
  }
 },
 "nbformat": 4,
 "nbformat_minor": 5
}
